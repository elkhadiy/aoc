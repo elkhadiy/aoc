{
 "cells": [
  {
   "cell_type": "code",
   "execution_count": 3,
   "metadata": {},
   "outputs": [],
   "source": [
    "%load_ext autoreload\n",
    "%autoreload 2"
   ]
  },
  {
   "cell_type": "code",
   "execution_count": 4,
   "metadata": {},
   "outputs": [],
   "source": [
    "from collections import OrderedDict\n",
    "from functools import partial\n",
    "\n",
    "from tqdm.contrib.concurrent import process_map\n",
    "# from multiprocessing import Pool\n",
    "\n",
    "import aoc\n",
    "from rangemap import RangeMap"
   ]
  },
  {
   "cell_type": "code",
   "execution_count": 5,
   "metadata": {},
   "outputs": [],
   "source": [
    "input = \"\"\"seeds: 79 14 55 13\n",
    "\n",
    "seed-to-soil map:\n",
    "50 98 2\n",
    "52 50 48\n",
    "\n",
    "soil-to-fertilizer map:\n",
    "0 15 37\n",
    "37 52 2\n",
    "39 0 15\n",
    "\n",
    "fertilizer-to-water map:\n",
    "49 53 8\n",
    "0 11 42\n",
    "42 0 7\n",
    "57 7 4\n",
    "\n",
    "water-to-light map:\n",
    "88 18 7\n",
    "18 25 70\n",
    "\n",
    "light-to-temperature map:\n",
    "45 77 23\n",
    "81 45 19\n",
    "68 64 13\n",
    "\n",
    "temperature-to-humidity map:\n",
    "0 69 1\n",
    "1 0 69\n",
    "\n",
    "humidity-to-location map:\n",
    "60 56 37\n",
    "56 93 4\"\"\""
   ]
  },
  {
   "cell_type": "code",
   "execution_count": 6,
   "metadata": {},
   "outputs": [
    {
     "data": {
      "text/plain": [
       "OrderedDict([('seed-to-soil',\n",
       "              (98, 99) -> (50, 51)\n",
       "              (50, 97) -> (52, 99)),\n",
       "             ('soil-to-fertilizer',\n",
       "              (15, 51) -> (0, 36)\n",
       "              (52, 53) -> (37, 38)\n",
       "              (0, 14) -> (39, 53)),\n",
       "             ('fertilizer-to-water',\n",
       "              (53, 60) -> (49, 56)\n",
       "              (11, 52) -> (0, 41)\n",
       "              (0, 6) -> (42, 48)\n",
       "              (7, 10) -> (57, 60)),\n",
       "             ('water-to-light',\n",
       "              (18, 24) -> (88, 94)\n",
       "              (25, 94) -> (18, 87)),\n",
       "             ('light-to-temperature',\n",
       "              (77, 99) -> (45, 67)\n",
       "              (45, 63) -> (81, 99)\n",
       "              (64, 76) -> (68, 80)),\n",
       "             ('temperature-to-humidity',\n",
       "              (69, 69) -> (0, 0)\n",
       "              (0, 68) -> (1, 69)),\n",
       "             ('humidity-to-location',\n",
       "              (56, 92) -> (60, 96)\n",
       "              (93, 96) -> (56, 59))])"
      ]
     },
     "execution_count": 6,
     "metadata": {},
     "output_type": "execute_result"
    }
   ],
   "source": [
    "almanac = lambda input: OrderedDict({\n",
    "    m.split('map:\\n')[0].strip(): RangeMap.from_starts_and_lengths_str(m.split('map:\\n')[1])\n",
    "    for m in input.strip().split('\\n\\n')\n",
    "    if not m.startswith('seeds:')\n",
    "})\n",
    "almanac(input)"
   ]
  },
  {
   "cell_type": "code",
   "execution_count": 7,
   "metadata": {},
   "outputs": [],
   "source": [
    "def seed_to(seed, dest_map_name, almanac, debug=False):\n",
    "    index = seed\n",
    "    if debug: print(f\"seed {seed}\", end=\" \")\n",
    "    for key, correspondance in almanac.items():\n",
    "        index = correspondance[index]\n",
    "        if debug: print(f\"-> {key.split('-')[-1]} {index}\", end=\" \")\n",
    "        if key == dest_map_name:\n",
    "            return index\n",
    "    return index"
   ]
  },
  {
   "cell_type": "code",
   "execution_count": 8,
   "metadata": {},
   "outputs": [
    {
     "name": "stdout",
     "output_type": "stream",
     "text": [
      "seed 48 -> soil 48 -> fertilizer 33 -> water 22 -> light 92 -> temperature 60 -> humidity 61 -> location 65 "
     ]
    },
    {
     "data": {
      "text/plain": [
       "65"
      ]
     },
     "execution_count": 8,
     "metadata": {},
     "output_type": "execute_result"
    }
   ],
   "source": [
    "seed_to(48, \"humidity-to-location\", almanac(input), debug=True)"
   ]
  },
  {
   "cell_type": "code",
   "execution_count": 9,
   "metadata": {},
   "outputs": [],
   "source": [
    "def seed_to_location(seed, almanac):\n",
    "    return seed_to(seed, \"humidity-to-location\", almanac)"
   ]
  },
  {
   "cell_type": "code",
   "execution_count": 10,
   "metadata": {},
   "outputs": [
    {
     "data": {
      "text/plain": [
       "65"
      ]
     },
     "execution_count": 10,
     "metadata": {},
     "output_type": "execute_result"
    }
   ],
   "source": [
    "seed_to_location(48, almanac(input))"
   ]
  },
  {
   "cell_type": "code",
   "execution_count": 11,
   "metadata": {},
   "outputs": [
    {
     "data": {
      "text/plain": [
       "[79, 14, 55, 13]"
      ]
     },
     "execution_count": 11,
     "metadata": {},
     "output_type": "execute_result"
    }
   ],
   "source": [
    "seeds = lambda input: list(map(int, input.strip().split('\\n')[0].split(':')[1].strip().split()))\n",
    "seeds(input)"
   ]
  },
  {
   "cell_type": "code",
   "execution_count": 12,
   "metadata": {},
   "outputs": [],
   "source": [
    "def closest_location(seeds, almanac):\n",
    "    return min([seed_to_location(seed, almanac) for seed in seeds])"
   ]
  },
  {
   "cell_type": "code",
   "execution_count": 13,
   "metadata": {},
   "outputs": [
    {
     "data": {
      "text/plain": [
       "35"
      ]
     },
     "execution_count": 13,
     "metadata": {},
     "output_type": "execute_result"
    }
   ],
   "source": [
    "closest_location(seeds(input), almanac(input))"
   ]
  },
  {
   "cell_type": "code",
   "execution_count": 14,
   "metadata": {},
   "outputs": [
    {
     "data": {
      "text/plain": [
       "282277027"
      ]
     },
     "execution_count": 14,
     "metadata": {},
     "output_type": "execute_result"
    }
   ],
   "source": [
    "input = aoc.input(5)\n",
    "answer = closest_location(seeds(input), almanac(input))\n",
    "answer"
   ]
  },
  {
   "cell_type": "code",
   "execution_count": 15,
   "metadata": {},
   "outputs": [
    {
     "data": {
      "text/plain": [
       "[(1187290020, 247767461),\n",
       " (40283135, 64738286),\n",
       " (2044483296, 66221787),\n",
       " (1777809491, 103070898),\n",
       " (108732160, 261552692),\n",
       " (3810626561, 257826205),\n",
       " (3045614911, 65672948),\n",
       " (744199732, 300163578),\n",
       " (3438684365, 82800966),\n",
       " (2808575117, 229295075)]"
      ]
     },
     "execution_count": 15,
     "metadata": {},
     "output_type": "execute_result"
    }
   ],
   "source": [
    "list(zip(seeds(input)[::2], seeds(input)[1::2]))"
   ]
  },
  {
   "cell_type": "code",
   "execution_count": 16,
   "metadata": {},
   "outputs": [],
   "source": [
    "def closest_location(seed_range, almanac):\n",
    "    result = process_map(\n",
    "        partial(seed_to_location, almanac=almanac),\n",
    "        range(seed_range[0], seed_range[0]+seed_range[1]),\n",
    "        total=seed_range[1],\n",
    "        chunksize=5)\n",
    "    return min(result)"
   ]
  },
  {
   "cell_type": "code",
   "execution_count": 17,
   "metadata": {},
   "outputs": [
    {
     "name": "stderr",
     "output_type": "stream",
     "text": [
      "C:\\Users\\yelkh\\AppData\\Local\\Temp\\ipykernel_20752\\1083351717.py:2: TqdmWarning: Iterable length 247767461 > 1000 but `chunksize` is not set. This may seriously degrade multiprocess performance. Set `chunksize=1` or more.\n",
      "  result = process_map(\n"
     ]
    }
   ],
   "source": [
    "input = aoc.input(5)\n",
    "answer = closest_location((1187290020, 247767461), almanac(input))\n",
    "answer"
   ]
  },
  {
   "cell_type": "code",
   "execution_count": null,
   "metadata": {},
   "outputs": [],
   "source": []
  }
 ],
 "metadata": {
  "kernelspec": {
   "display_name": ".venv",
   "language": "python",
   "name": "python3"
  },
  "language_info": {
   "codemirror_mode": {
    "name": "ipython",
    "version": 3
   },
   "file_extension": ".py",
   "mimetype": "text/x-python",
   "name": "python",
   "nbconvert_exporter": "python",
   "pygments_lexer": "ipython3",
   "version": "3.8.10"
  }
 },
 "nbformat": 4,
 "nbformat_minor": 2
}
