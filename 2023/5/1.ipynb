{
 "cells": [
  {
   "cell_type": "code",
   "execution_count": 23,
   "metadata": {},
   "outputs": [],
   "source": [
    "%load_ext autoreload\n",
    "%autoreload 2"
   ]
  },
  {
   "cell_type": "code",
   "execution_count": 93,
   "metadata": {},
   "outputs": [],
   "source": [
    "from collections import OrderedDict\n",
    "\n",
    "import aoc\n",
    "from rangemap import RangeMap"
   ]
  },
  {
   "cell_type": "code",
   "execution_count": 25,
   "metadata": {},
   "outputs": [],
   "source": [
    "input = \"\"\"seeds: 79 14 55 13\n",
    "\n",
    "seed-to-soil map:\n",
    "50 98 2\n",
    "52 50 48\n",
    "\n",
    "soil-to-fertilizer map:\n",
    "0 15 37\n",
    "37 52 2\n",
    "39 0 15\n",
    "\n",
    "fertilizer-to-water map:\n",
    "49 53 8\n",
    "0 11 42\n",
    "42 0 7\n",
    "57 7 4\n",
    "\n",
    "water-to-light map:\n",
    "88 18 7\n",
    "18 25 70\n",
    "\n",
    "light-to-temperature map:\n",
    "45 77 23\n",
    "81 45 19\n",
    "68 64 13\n",
    "\n",
    "temperature-to-humidity map:\n",
    "0 69 1\n",
    "1 0 69\n",
    "\n",
    "humidity-to-location map:\n",
    "60 56 37\n",
    "56 93 4\"\"\""
   ]
  },
  {
   "cell_type": "code",
   "execution_count": 155,
   "metadata": {},
   "outputs": [
    {
     "data": {
      "text/plain": [
       "OrderedDict([('seed-to-soil',\n",
       "              (98, 99) -> (50, 51)\n",
       "              (50, 97) -> (52, 99)),\n",
       "             ('soil-to-fertilizer',\n",
       "              (15, 51) -> (0, 36)\n",
       "              (52, 53) -> (37, 38)\n",
       "              (0, 14) -> (39, 53)),\n",
       "             ('fertilizer-to-water',\n",
       "              (53, 60) -> (49, 56)\n",
       "              (11, 52) -> (0, 41)\n",
       "              (0, 6) -> (42, 48)\n",
       "              (7, 10) -> (57, 60)),\n",
       "             ('water-to-light',\n",
       "              (18, 24) -> (88, 94)\n",
       "              (25, 94) -> (18, 87)),\n",
       "             ('light-to-temperature',\n",
       "              (77, 99) -> (45, 67)\n",
       "              (45, 63) -> (81, 99)\n",
       "              (64, 76) -> (68, 80)),\n",
       "             ('temperature-to-humidity',\n",
       "              (69, 69) -> (0, 0)\n",
       "              (0, 68) -> (1, 69)),\n",
       "             ('humidity-to-location',\n",
       "              (56, 92) -> (60, 96)\n",
       "              (93, 96) -> (56, 59))])"
      ]
     },
     "execution_count": 155,
     "metadata": {},
     "output_type": "execute_result"
    }
   ],
   "source": [
    "almanac = lambda input: OrderedDict({\n",
    "    m.split('map:\\n')[0].strip(): RangeMap.from_starts_and_lengths_str(m.split('map:\\n')[1])\n",
    "    for m in input.strip().split('\\n\\n')\n",
    "    if not m.startswith('seeds:')\n",
    "})\n",
    "almanac(input)"
   ]
  },
  {
   "cell_type": "code",
   "execution_count": 140,
   "metadata": {},
   "outputs": [],
   "source": [
    "def seed_to(seed, dest_map_name, almanac, debug=False):\n",
    "    index = seed\n",
    "    if debug: print(f\"seed {seed}\", end=\" \")\n",
    "    for key, correspondance in almanac.items():\n",
    "        index = correspondance[index]\n",
    "        if debug: print(f\"-> {key.split('-')[-1]} {index}\", end=\" \")\n",
    "        if key == dest_map_name:\n",
    "            return index\n",
    "    return index"
   ]
  },
  {
   "cell_type": "code",
   "execution_count": 156,
   "metadata": {},
   "outputs": [
    {
     "name": "stdout",
     "output_type": "stream",
     "text": [
      "seed 48 -> soil 48 -> fertilizer 33 -> water 22 -> light 92 -> temperature 60 -> humidity 61 -> location 65 "
     ]
    },
    {
     "data": {
      "text/plain": [
       "65"
      ]
     },
     "execution_count": 156,
     "metadata": {},
     "output_type": "execute_result"
    }
   ],
   "source": [
    "seed_to(48, \"humidity-to-location\", almanac(input), debug=True)"
   ]
  },
  {
   "cell_type": "code",
   "execution_count": 146,
   "metadata": {},
   "outputs": [],
   "source": [
    "def seed_to_location(seed, almanac):\n",
    "    return seed_to(seed, \"humidity-to-location\", almanac)"
   ]
  },
  {
   "cell_type": "code",
   "execution_count": 157,
   "metadata": {},
   "outputs": [
    {
     "data": {
      "text/plain": [
       "65"
      ]
     },
     "execution_count": 157,
     "metadata": {},
     "output_type": "execute_result"
    }
   ],
   "source": [
    "seed_to_location(48, almanac(input))"
   ]
  },
  {
   "cell_type": "code",
   "execution_count": 152,
   "metadata": {},
   "outputs": [
    {
     "data": {
      "text/plain": [
       "[79, 14, 55, 13]"
      ]
     },
     "execution_count": 152,
     "metadata": {},
     "output_type": "execute_result"
    }
   ],
   "source": [
    "seeds = lambda input: list(map(int, input.strip().split('\\n')[0].split(':')[1].strip().split()))\n",
    "seeds(input)"
   ]
  },
  {
   "cell_type": "code",
   "execution_count": 153,
   "metadata": {},
   "outputs": [],
   "source": [
    "def closest_location(seeds, almanac):\n",
    "    return min([seed_to_location(seed, almanac) for seed in seeds])"
   ]
  },
  {
   "cell_type": "code",
   "execution_count": 158,
   "metadata": {},
   "outputs": [
    {
     "data": {
      "text/plain": [
       "35"
      ]
     },
     "execution_count": 158,
     "metadata": {},
     "output_type": "execute_result"
    }
   ],
   "source": [
    "closest_location(seeds(input), almanac(input))"
   ]
  },
  {
   "cell_type": "code",
   "execution_count": 161,
   "metadata": {},
   "outputs": [
    {
     "data": {
      "text/plain": [
       "282277027"
      ]
     },
     "execution_count": 161,
     "metadata": {},
     "output_type": "execute_result"
    }
   ],
   "source": [
    "input = aoc.input(5)\n",
    "answer = closest_location(seeds(input), almanac(input))\n",
    "answer"
   ]
  },
  {
   "cell_type": "code",
   "execution_count": 162,
   "metadata": {},
   "outputs": [
    {
     "name": "stdout",
     "output_type": "stream",
     "text": [
      "\n",
      "That's the right answer!  You are one gold star closer to restoring snow operations. [Continue to Part Two]\n",
      "\n"
     ]
    }
   ],
   "source": [
    "aoc.submit(5, 1, answer)"
   ]
  },
  {
   "cell_type": "code",
   "execution_count": null,
   "metadata": {},
   "outputs": [],
   "source": []
  }
 ],
 "metadata": {
  "kernelspec": {
   "display_name": ".venv",
   "language": "python",
   "name": "python3"
  },
  "language_info": {
   "codemirror_mode": {
    "name": "ipython",
    "version": 3
   },
   "file_extension": ".py",
   "mimetype": "text/x-python",
   "name": "python",
   "nbconvert_exporter": "python",
   "pygments_lexer": "ipython3",
   "version": "3.8.10"
  }
 },
 "nbformat": 4,
 "nbformat_minor": 2
}
