{
 "cells": [
  {
   "cell_type": "code",
   "execution_count": 9,
   "metadata": {},
   "outputs": [],
   "source": [
    "import re\n",
    "\n",
    "import aoc"
   ]
  },
  {
   "cell_type": "code",
   "execution_count": 10,
   "metadata": {},
   "outputs": [],
   "source": [
    "input = \"\"\"467..114..\n",
    "...*......\n",
    "..35..633.\n",
    "......#...\n",
    "617*......\n",
    ".....+.58.\n",
    "..592.....\n",
    "......755.\n",
    "...$.*....\n",
    ".664.598..\"\"\".strip().splitlines()"
   ]
  },
  {
   "cell_type": "code",
   "execution_count": 3,
   "metadata": {},
   "outputs": [
    {
     "data": {
      "text/plain": [
       "['467..114..',\n",
       " '...*......',\n",
       " '..35..633.',\n",
       " '......#...',\n",
       " '617*......',\n",
       " '.....+.58.',\n",
       " '..592.....',\n",
       " '......755.',\n",
       " '...$.*....',\n",
       " '.664.598..']"
      ]
     },
     "execution_count": 3,
     "metadata": {},
     "output_type": "execute_result"
    }
   ],
   "source": [
    "input"
   ]
  },
  {
   "cell_type": "code",
   "execution_count": 157,
   "metadata": {},
   "outputs": [],
   "source": [
    "def is_symbol(caracter):\n",
    "    return not (caracter.isdigit() or caracter == '.')\n",
    "\n",
    "\n",
    "def is_part_number(number, i, j, input):\n",
    "\n",
    "    entourage_i_indices = [i_ for i_ in range(i-1, i+2) if 0 <= i_ < len(input)]\n",
    "    entourage_j_indices = [j_ for j_ in range(j-1, j+len(number)+1) if 0 <= j_ < len(input[0])]\n",
    "    \n",
    "    for i_ in entourage_i_indices:\n",
    "        for j_ in entourage_j_indices:\n",
    "            if is_symbol(input[i_][j_]):\n",
    "                return True\n",
    "\n",
    "    return False\n",
    "\n",
    "\n",
    "def find_parts(line, i):\n",
    "    offset = 0\n",
    "    numbers = []\n",
    "\n",
    "    digits = re.compile(r'\\d+')\n",
    "\n",
    "    for e in line.split('.'):\n",
    "        if digits.findall(e):\n",
    "            for d in digits.finditer(e):\n",
    "                numbers.append((d.group(), i, offset+d.span()[0]))\n",
    "            offset += len(e) + 1\n",
    "        else:\n",
    "            offset += 1 + (1 if e else 0)\n",
    "\n",
    "    return numbers"
   ]
  },
  {
   "cell_type": "code",
   "execution_count": 21,
   "metadata": {},
   "outputs": [],
   "source": [
    "def find_asterisk(line, i):\n",
    "    gears = []\n",
    "    for asterisk in re.finditer(r'\\*', line):\n",
    "        gears.append((i, asterisk.span()[0]))\n",
    "    return gears"
   ]
  },
  {
   "cell_type": "code",
   "execution_count": 22,
   "metadata": {},
   "outputs": [
    {
     "name": "stdout",
     "output_type": "stream",
     "text": [
      "467..114.. []\n",
      "...*...... [(1, 3)]\n",
      "..35..633. []\n",
      "......#... []\n",
      "617*...... [(4, 3)]\n",
      ".....+.58. []\n",
      "..592..... []\n",
      "......755. []\n",
      "...$.*.... [(8, 5)]\n",
      ".664.598.. []\n"
     ]
    }
   ],
   "source": [
    "for i, line in enumerate(input):\n",
    "    print(line, find_asterisk(line, i))"
   ]
  },
  {
   "cell_type": "code",
   "execution_count": 29,
   "metadata": {},
   "outputs": [],
   "source": [
    "def surrounding_parts(position, input):\n",
    "    s = position[0] - 1 if position[0] - 1 >= 0 else 0\n",
    "    e = position[0] + 1 if position[0] + 1 < len(input) else len(input) - 1\n",
    "    parts = [(p.group(), (p.span()[0], p.span()[1]-1)) for line in input[s:e+1] for p in re.finditer(r'\\d+', line)]\n",
    "    surrounding_parts = [\n",
    "        part\n",
    "        for part in parts\n",
    "        if (part[1][0] - 1 if part[1][0]-1 > 0 else 0) <= position[1]\n",
    "        and position[1] <= (part[1][1] + 1 if part[1][1] + 1 < len(input[0]) else len(input[0])-1)\n",
    "    ]\n",
    "    return surrounding_parts"
   ]
  },
  {
   "cell_type": "code",
   "execution_count": 30,
   "metadata": {},
   "outputs": [
    {
     "name": "stdout",
     "output_type": "stream",
     "text": [
      "467..114.. []\n",
      "...*...... [[('467', (0, 2)), ('35', (2, 3))]]\n",
      "..35..633. []\n",
      "......#... []\n",
      "617*...... [[('617', (0, 2))]]\n",
      ".....+.58. []\n",
      "..592..... []\n",
      "......755. []\n",
      "...$.*.... [[('755', (6, 8)), ('598', (5, 7))]]\n",
      ".664.598.. []\n"
     ]
    }
   ],
   "source": [
    "for i, line in enumerate(input):\n",
    "    print(line, [surrounding_parts(a, input) for a in find_asterisk(line, i)])"
   ]
  },
  {
   "cell_type": "code",
   "execution_count": 31,
   "metadata": {},
   "outputs": [],
   "source": [
    "def calculate_ratios(input):\n",
    "    gear_ratios = 0\n",
    "    for i, line in enumerate(input):\n",
    "        for gear in [surrounding_parts(a, input) for a in find_asterisk(line, i)]:\n",
    "            if len(gear) == 2:\n",
    "                gear_ratios += int(gear[0][0]) * int(gear[1][0])\n",
    "    return gear_ratios"
   ]
  },
  {
   "cell_type": "code",
   "execution_count": 32,
   "metadata": {},
   "outputs": [
    {
     "data": {
      "text/plain": [
       "467835"
      ]
     },
     "execution_count": 32,
     "metadata": {},
     "output_type": "execute_result"
    }
   ],
   "source": [
    "calculate_ratios(input)"
   ]
  },
  {
   "cell_type": "code",
   "execution_count": 34,
   "metadata": {},
   "outputs": [
    {
     "data": {
      "text/plain": [
       "75220503"
      ]
     },
     "execution_count": 34,
     "metadata": {},
     "output_type": "execute_result"
    }
   ],
   "source": [
    "input = aoc.input(3).strip().splitlines()\n",
    "answer = calculate_ratios(input)\n",
    "answer"
   ]
  },
  {
   "cell_type": "code",
   "execution_count": 35,
   "metadata": {},
   "outputs": [
    {
     "name": "stdout",
     "output_type": "stream",
     "text": [
      "\n",
      "That's the right answer!  You are one gold star closer to restoring snow operations.You have completed Day 3! You can [Shareon\n",
      "  Twitter\n",
      "Mastodon] this victory or [Return to Your Advent Calendar].\n",
      "\n"
     ]
    }
   ],
   "source": [
    "aoc.submit(3, 2, answer)"
   ]
  }
 ],
 "metadata": {
  "kernelspec": {
   "display_name": ".venv",
   "language": "python",
   "name": "python3"
  },
  "language_info": {
   "codemirror_mode": {
    "name": "ipython",
    "version": 3
   },
   "file_extension": ".py",
   "mimetype": "text/x-python",
   "name": "python",
   "nbconvert_exporter": "python",
   "pygments_lexer": "ipython3",
   "version": "3.8.10"
  }
 },
 "nbformat": 4,
 "nbformat_minor": 2
}
