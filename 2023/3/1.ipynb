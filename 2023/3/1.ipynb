{
 "cells": [
  {
   "cell_type": "code",
   "execution_count": 97,
   "metadata": {},
   "outputs": [],
   "source": [
    "import re\n",
    "\n",
    "import aoc"
   ]
  },
  {
   "cell_type": "code",
   "execution_count": 119,
   "metadata": {},
   "outputs": [],
   "source": [
    "input = \"\"\"467..114..\n",
    "...*......\n",
    "..35..633.\n",
    "......#...\n",
    "617*......\n",
    ".....+.58.\n",
    "..592.....\n",
    "......755.\n",
    "...$.*....\n",
    ".664.598..\"\"\".strip().splitlines()"
   ]
  },
  {
   "cell_type": "code",
   "execution_count": 120,
   "metadata": {},
   "outputs": [
    {
     "data": {
      "text/plain": [
       "['467..114..',\n",
       " '...*......',\n",
       " '..35..633.',\n",
       " '......#...',\n",
       " '617*......',\n",
       " '.....+.58.',\n",
       " '..592.....',\n",
       " '......755.',\n",
       " '...$.*....',\n",
       " '.664.598..']"
      ]
     },
     "execution_count": 120,
     "metadata": {},
     "output_type": "execute_result"
    }
   ],
   "source": [
    "input"
   ]
  },
  {
   "cell_type": "code",
   "execution_count": 157,
   "metadata": {},
   "outputs": [],
   "source": [
    "def is_symbol(caracter):\n",
    "    return not (caracter.isdigit() or caracter == '.')\n",
    "\n",
    "\n",
    "def is_part_number(number, i, j, input):\n",
    "\n",
    "    entourage_i_indices = [i_ for i_ in range(i-1, i+2) if 0 <= i_ < len(input)]\n",
    "    entourage_j_indices = [j_ for j_ in range(j-1, j+len(number)+1) if 0 <= j_ < len(input[0])]\n",
    "    \n",
    "    for i_ in entourage_i_indices:\n",
    "        for j_ in entourage_j_indices:\n",
    "            if is_symbol(input[i_][j_]):\n",
    "                return True\n",
    "\n",
    "    return False\n",
    "\n",
    "\n",
    "def find_parts(line, i):\n",
    "    offset = 0\n",
    "    numbers = []\n",
    "\n",
    "    for e in line.split('.'):\n",
    "        if re.findall(r'\\d+', e):\n",
    "            for d in re.finditer(r'\\d+', e):\n",
    "                numbers.append((d.group(), i, offset+d.span()[0]))\n",
    "            offset += len(e) + 1\n",
    "        else:\n",
    "            offset += 1 + (1 if e else 0)\n",
    "\n",
    "    return numbers"
   ]
  },
  {
   "cell_type": "code",
   "execution_count": 158,
   "metadata": {},
   "outputs": [],
   "source": [
    "def part_number_sum(input):\n",
    "    return sum([\n",
    "        sum([int(n[0]) for n in find_parts(line, i) if is_part_number(*n, input)])\n",
    "        for i, line in enumerate(input)\n",
    "        ])"
   ]
  },
  {
   "cell_type": "code",
   "execution_count": 159,
   "metadata": {},
   "outputs": [
    {
     "data": {
      "text/plain": [
       "509115"
      ]
     },
     "execution_count": 159,
     "metadata": {},
     "output_type": "execute_result"
    }
   ],
   "source": [
    "part_number_sum(input)"
   ]
  },
  {
   "cell_type": "code",
   "execution_count": 160,
   "metadata": {},
   "outputs": [
    {
     "data": {
      "text/plain": [
       "509115"
      ]
     },
     "execution_count": 160,
     "metadata": {},
     "output_type": "execute_result"
    }
   ],
   "source": [
    "input = aoc.input(3).strip().splitlines()\n",
    "part_number_sum(input)"
   ]
  },
  {
   "cell_type": "code",
   "execution_count": 161,
   "metadata": {},
   "outputs": [
    {
     "name": "stdout",
     "output_type": "stream",
     "text": [
      "\n",
      "That's the right answer!  You are one gold star closer to restoring snow operations. [Continue to Part Two]\n",
      "\n"
     ]
    }
   ],
   "source": [
    "aoc.submit(3, 1, part_number_sum(input))"
   ]
  }
 ],
 "metadata": {
  "kernelspec": {
   "display_name": ".venv",
   "language": "python",
   "name": "python3"
  },
  "language_info": {
   "codemirror_mode": {
    "name": "ipython",
    "version": 3
   },
   "file_extension": ".py",
   "mimetype": "text/x-python",
   "name": "python",
   "nbconvert_exporter": "python",
   "pygments_lexer": "ipython3",
   "version": "3.8.10"
  }
 },
 "nbformat": 4,
 "nbformat_minor": 2
}
