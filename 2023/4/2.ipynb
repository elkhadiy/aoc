{
 "cells": [
  {
   "cell_type": "code",
   "execution_count": 3,
   "metadata": {},
   "outputs": [],
   "source": [
    "import numpy as np\n",
    "\n",
    "import aoc"
   ]
  },
  {
   "cell_type": "code",
   "execution_count": 48,
   "metadata": {},
   "outputs": [
    {
     "data": {
      "text/plain": [
       "['Card 1: 41 48 83 86 17 | 83 86  6 31 17  9 48 53',\n",
       " 'Card 2: 13 32 20 16 61 | 61 30 68 82 17 32 24 19',\n",
       " 'Card 3:  1 21 53 59 44 | 69 82 63 72 16 21 14  1',\n",
       " 'Card 4: 41 92 73 84 69 | 59 84 76 51 58  5 54 83',\n",
       " 'Card 5: 87 83 26 28 32 | 88 30 70 12 93 22 82 36',\n",
       " 'Card 6: 31 18 13 56 72 | 74 77 10 23 35 67 36 11']"
      ]
     },
     "execution_count": 48,
     "metadata": {},
     "output_type": "execute_result"
    }
   ],
   "source": [
    "input = \"\"\"Card 1: 41 48 83 86 17 | 83 86  6 31 17  9 48 53\n",
    "Card 2: 13 32 20 16 61 | 61 30 68 82 17 32 24 19\n",
    "Card 3:  1 21 53 59 44 | 69 82 63 72 16 21 14  1\n",
    "Card 4: 41 92 73 84 69 | 59 84 76 51 58  5 54 83\n",
    "Card 5: 87 83 26 28 32 | 88 30 70 12 93 22 82 36\n",
    "Card 6: 31 18 13 56 72 | 74 77 10 23 35 67 36 11\"\"\".strip().splitlines()\n",
    "input"
   ]
  },
  {
   "cell_type": "code",
   "execution_count": 52,
   "metadata": {},
   "outputs": [],
   "source": [
    "def matches(card):\n",
    "    numbers = card.split(':')[1].strip().split('|')\n",
    "    winning_numbers = numbers[0].strip().split()\n",
    "    numbers_you_have = numbers[1].strip().split()\n",
    "    matches = 0\n",
    "    for number_you_have in numbers_you_have:\n",
    "        matches += number_you_have in winning_numbers\n",
    "    return matches"
   ]
  },
  {
   "cell_type": "code",
   "execution_count": 54,
   "metadata": {},
   "outputs": [
    {
     "name": "stdout",
     "output_type": "stream",
     "text": [
      "[1. 1. 1. 1. 1. 1.]\n",
      "4 [1. 2. 2. 2. 2. 1.]\n",
      "2 [1. 2. 4. 4. 2. 1.]\n",
      "2 [1. 2. 4. 8. 6. 1.]\n",
      "1 [ 1.  2.  4.  8. 14.  1.]\n",
      "0 [ 1.  2.  4.  8. 14.  1.]\n",
      "0 [ 1.  2.  4.  8. 14.  1.]\n"
     ]
    }
   ],
   "source": [
    "card_copies = np.ones(len(input))\n",
    "print(card_copies)\n",
    "for i, card in enumerate(input):\n",
    "    matching_numbers = matches(card)\n",
    "    if matching_numbers:\n",
    "        card_copies[i+1:i+matching_numbers+1] = card_copies[i+1:i+matching_numbers+1] + card_copies[i]\n",
    "    print(matching_numbers, card_copies)"
   ]
  },
  {
   "cell_type": "code",
   "execution_count": 56,
   "metadata": {},
   "outputs": [
    {
     "data": {
      "text/plain": [
       "(array([ 1.,  2.,  4.,  8., 14.,  1.]), 30.0)"
      ]
     },
     "execution_count": 56,
     "metadata": {},
     "output_type": "execute_result"
    }
   ],
   "source": [
    "card_copies, card_copies.sum()"
   ]
  },
  {
   "cell_type": "code",
   "execution_count": 61,
   "metadata": {},
   "outputs": [],
   "source": [
    "def count_cards(input):\n",
    "    card_copies = np.ones(len(input))\n",
    "    for i, card in enumerate(input):\n",
    "        matching_numbers = matches(card)\n",
    "        if matching_numbers:\n",
    "            card_copies[i+1:i+matching_numbers+1] = card_copies[i+1:i+matching_numbers+1] + card_copies[i]\n",
    "    return int(card_copies.sum())"
   ]
  },
  {
   "cell_type": "code",
   "execution_count": 62,
   "metadata": {},
   "outputs": [
    {
     "data": {
      "text/plain": [
       "12648035"
      ]
     },
     "execution_count": 62,
     "metadata": {},
     "output_type": "execute_result"
    }
   ],
   "source": [
    "count_cards(input)"
   ]
  },
  {
   "cell_type": "code",
   "execution_count": 64,
   "metadata": {},
   "outputs": [
    {
     "name": "stdout",
     "output_type": "stream",
     "text": [
      "12648035\n"
     ]
    }
   ],
   "source": [
    "input = aoc.input(4).strip().splitlines()\n",
    "answer = count_cards(input)\n",
    "print(answer)"
   ]
  },
  {
   "cell_type": "code",
   "execution_count": null,
   "metadata": {},
   "outputs": [],
   "source": []
  }
 ],
 "metadata": {
  "kernelspec": {
   "display_name": ".venv",
   "language": "python",
   "name": "python3"
  },
  "language_info": {
   "codemirror_mode": {
    "name": "ipython",
    "version": 3
   },
   "file_extension": ".py",
   "mimetype": "text/x-python",
   "name": "python",
   "nbconvert_exporter": "python",
   "pygments_lexer": "ipython3",
   "version": "3.8.10"
  }
 },
 "nbformat": 4,
 "nbformat_minor": 2
}
